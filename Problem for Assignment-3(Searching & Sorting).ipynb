{
 "cells": [
  {
   "cell_type": "markdown",
   "id": "63c4df2b",
   "metadata": {},
   "source": [
    "Q1. Implement Binary Search"
   ]
  },
  {
   "cell_type": "code",
   "execution_count": 9,
   "id": "df3df5be",
   "metadata": {},
   "outputs": [
    {
     "name": "stdout",
     "output_type": "stream",
     "text": [
      "False\n",
      "True\n"
     ]
    }
   ],
   "source": [
    "def binary_search(item_list,item):\n",
    "    first = 0\n",
    "    last = len(item_list)-1\n",
    "    found = False\n",
    "    while( first<=last and not found):\n",
    "        mid = (first + last)//2\n",
    "        if item_list[mid] == item :\n",
    "            found = True\n",
    "        else:\n",
    "            if item < item_list[mid]:\n",
    "                last = mid - 1\n",
    "            else:\n",
    "                first = mid + 1\t\n",
    "    return found\n",
    "\n",
    "print(binary_search([1,2,3,5,8], 6))\n",
    "print(binary_search([1,2,3,5,8], 5))"
   ]
  },
  {
   "cell_type": "markdown",
   "id": "b9fb561b",
   "metadata": {},
   "source": [
    "Q2. Implement Merge Sort"
   ]
  },
  {
   "cell_type": "code",
   "execution_count": 10,
   "id": "90cb08c8",
   "metadata": {},
   "outputs": [
    {
     "name": "stdout",
     "output_type": "stream",
     "text": [
      "Enter the list of numbers: 3 1 6 2 5 4 9 7 10\n",
      "Sorted list: [1, 2, 3, 4, 5, 6, 7, 9, 10]\n"
     ]
    }
   ],
   "source": [
    "def merge_sort(alist, start, end):\n",
    "    if end - start > 1:\n",
    "        mid = (start + end)//2\n",
    "        merge_sort(alist, start, mid)\n",
    "        merge_sort(alist, mid, end)\n",
    "        merge_list(alist, start, mid, end)\n",
    "\n",
    "def merge_list(alist, start, mid, end):\n",
    "    left = alist[start:mid]\n",
    "    right = alist[mid:end]\n",
    "    k = start\n",
    "    i = 0\n",
    "    j = 0\n",
    "    while (start + i < mid and mid + j < end):\n",
    "        if (left[i] <= right[j]):\n",
    "            alist[k] = left[i]\n",
    "            i = i + 1\n",
    "        else:\n",
    "            alist[k] = right[j]\n",
    "            j = j + 1\n",
    "        k = k + 1\n",
    "    if start + i < mid:\n",
    "        while k < end:\n",
    "            alist[k] = left[i]\n",
    "            i = i + 1\n",
    "            k = k + 1\n",
    "    else:\n",
    "        while k < end:\n",
    "            alist[k] = right[j]\n",
    "            j = j + 1\n",
    "            k = k + 1\n",
    " \n",
    " \n",
    "alist = input('Enter the list of numbers: ').split()\n",
    "alist = [int(x) for x in alist]\n",
    "merge_sort(alist, 0, len(alist))\n",
    "print('Sorted list: ', end='')\n",
    "print(alist)"
   ]
  },
  {
   "cell_type": "markdown",
   "id": "1b83f969",
   "metadata": {},
   "source": [
    "Q3. Implement Quick Sort"
   ]
  },
  {
   "cell_type": "code",
   "execution_count": 11,
   "id": "2bbde00a",
   "metadata": {},
   "outputs": [
    {
     "name": "stdout",
     "output_type": "stream",
     "text": [
      "[17, 20, 26, 31, 44, 54, 55, 77, 93]\n"
     ]
    }
   ],
   "source": [
    "def quickSort(data_list):\n",
    "    quickSortHlp(data_list,0,len(data_list)-1)\n",
    "\n",
    "def quickSortHlp(data_list,first,last):\n",
    "    if first < last:\n",
    "        splitpoint = partition(data_list,first,last)\n",
    "        quickSortHlp(data_list,first,splitpoint-1)\n",
    "        quickSortHlp(data_list,splitpoint+1,last)\n",
    "\n",
    "\n",
    "def partition(data_list,first,last):\n",
    "    pivotvalue = data_list[first]\n",
    "    leftmark = first+1\n",
    "    rightmark = last\n",
    "\n",
    "    done = False\n",
    "    while not done:\n",
    "        while leftmark <= rightmark and data_list[leftmark] <= pivotvalue:\n",
    "            leftmark = leftmark + 1\n",
    "\n",
    "        while data_list[rightmark] >= pivotvalue and rightmark >= leftmark:\n",
    "            rightmark = rightmark -1\n",
    "\n",
    "        if rightmark < leftmark:\n",
    "            done = True\n",
    "        else:\n",
    "            temp = data_list[leftmark]\n",
    "            data_list[leftmark] = data_list[rightmark]\n",
    "            data_list[rightmark] = temp\n",
    "\n",
    "    temp = data_list[first]\n",
    "    data_list[first] = data_list[rightmark]\n",
    "    data_list[rightmark] = temp\n",
    "\n",
    "\n",
    "    return rightmark\n",
    "\n",
    "data_list = [54,26,93,17,77,31,44,55,20]\n",
    "quickSort(data_list)\n",
    "print(data_list)"
   ]
  },
  {
   "cell_type": "markdown",
   "id": "c8d20bd0",
   "metadata": {},
   "source": [
    "Q4. Implement Insertion Sort"
   ]
  },
  {
   "cell_type": "code",
   "execution_count": 12,
   "id": "881e57d0",
   "metadata": {},
   "outputs": [
    {
     "name": "stdout",
     "output_type": "stream",
     "text": [
      "[14, 46, 43, 27, 57, 41, 45, 21, 70]\n"
     ]
    }
   ],
   "source": [
    "def insertionSort(nlist):\n",
    "    for index in range(1,len(nlist)):\n",
    "        currentvalue = nlist[index]\n",
    "        position = index\n",
    "    while position>0 and nlist[position-1]>currentvalue:\n",
    "        nlist[position]=nlist[position-1]\n",
    "        position = position-1\n",
    "    nlist[position]=currentvalue\n",
    "\n",
    "nlist = [14,46,43,27,57,41,45,21,70]\n",
    "insertionSort(nlist)\n",
    "print(nlist)"
   ]
  },
  {
   "cell_type": "markdown",
   "id": "6b05ee1e",
   "metadata": {},
   "source": [
    "Q5. Write a program to sort list of strings (similar to that of dictionary)"
   ]
  },
  {
   "cell_type": "code",
   "execution_count": 13,
   "id": "dd36aca4",
   "metadata": {},
   "outputs": [
    {
     "name": "stdout",
     "output_type": "stream",
     "text": [
      "Original list of dictionaries :\n",
      "[{'Name': 'Rose', 'Batch': 'DS291122A', 'Course': 'DSA'}, {'Name': 'Lily', 'Batch': 'DS291122A', 'Course': 'DSA'}, {'Name': 'Jasmin', 'Batch': 'DS291122A', 'Course': 'DSA'}]\n",
      "\n",
      "Sorting the List of dictionaries :\n",
      "[{'Name': 'Jasmin', 'Batch': 'DS291122A', 'Course': 'DSA'}, {'Name': 'Lily', 'Batch': 'DS291122A', 'Course': 'DSA'}, {'Name': 'Rose', 'Batch': 'DS291122A', 'Course': 'DSA'}]\n"
     ]
    }
   ],
   "source": [
    "models = [{'Name':'Rose', 'Batch':'DS291122A', 'Course':'DSA'}, {'Name':'Lily', 'Batch':'DS291122A', 'Course':'DSA'}, {'Name':'Jasmin', 'Batch':'DS291122A', 'Course':'DSA'}]\n",
    "print(\"Original list of dictionaries :\")\n",
    "print(models)\n",
    "sorted_models = sorted(models, key = lambda x: x['Name'])\n",
    "print(\"\\nSorting the List of dictionaries :\")\n",
    "print(sorted_models)\n"
   ]
  },
  {
   "cell_type": "code",
   "execution_count": null,
   "id": "9fe853c2",
   "metadata": {},
   "outputs": [],
   "source": []
  }
 ],
 "metadata": {
  "kernelspec": {
   "display_name": "Python 3 (ipykernel)",
   "language": "python",
   "name": "python3"
  },
  "language_info": {
   "codemirror_mode": {
    "name": "ipython",
    "version": 3
   },
   "file_extension": ".py",
   "mimetype": "text/x-python",
   "name": "python",
   "nbconvert_exporter": "python",
   "pygments_lexer": "ipython3",
   "version": "3.11.0"
  }
 },
 "nbformat": 4,
 "nbformat_minor": 5
}
